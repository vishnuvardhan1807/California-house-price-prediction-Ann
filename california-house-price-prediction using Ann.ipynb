{
 "cells": [
  {
   "cell_type": "code",
   "execution_count": 1,
   "id": "personal-letters",
   "metadata": {},
   "outputs": [],
   "source": [
    "import numpy as np\n",
    "import pandas as pd\n",
    "import matplotlib.pyplot as plt\n",
    "from sklearn.datasets import fetch_california_housing\n",
    "from sklearn.model_selection import train_test_split\n",
    "from sklearn.preprocessing import StandardScaler\n",
    "import tensorflow as tf\n",
    "from tensorflow import keras"
   ]
  },
  {
   "cell_type": "code",
   "execution_count": 2,
   "id": "sealed-aerospace",
   "metadata": {},
   "outputs": [
    {
     "name": "stdout",
     "output_type": "stream",
     "text": [
      "The size of training before splitting to valid is (15480, 8)\n",
      "The size of testing before splitting to valid is (15480,)\n",
      "The size of training after splitting to valid is (11610, 8)\n",
      "The size of testing after splitting to valid is (11610,)\n"
     ]
    }
   ],
   "source": [
    "housing = fetch_california_housing() #loading the data\n",
    "X_train_full , X_test , y_train_full , y_test = train_test_split(housing.data , housing.target) #training and testing set\n",
    "X_train , X_valid , y_train , y_valid = train_test_split(X_train_full,y_train_full) #training and validation set\n",
    "\n",
    "print(f\"The size of training before splitting to valid is {X_train_full.shape}\")\n",
    "print(f\"The size of testing before splitting to valid is {y_train_full.shape}\")\n",
    "\n",
    "print(f\"The size of training after splitting to valid is {X_train.shape}\")\n",
    "print(f\"The size of testing after splitting to valid is {y_train.shape}\")"
   ]
  },
  {
   "cell_type": "code",
   "execution_count": 3,
   "id": "silver-contents",
   "metadata": {},
   "outputs": [],
   "source": [
    "# scaling the features\n",
    "\n",
    "scaler = StandardScaler()\n",
    "X_train = scaler.fit_transform(X_train)\n",
    "X_valid = scaler.transform(X_valid)\n",
    "X_test = scaler.transform(X_test)"
   ]
  },
  {
   "cell_type": "code",
   "execution_count": 4,
   "id": "hollow-netherlands",
   "metadata": {},
   "outputs": [
    {
     "name": "stdout",
     "output_type": "stream",
     "text": [
      "Epoch 1/20\n",
      "363/363 [==============================] - 2s 4ms/step - loss: 1.7430 - mean_squared_error: 1.7430 - val_loss: 0.5849 - val_mean_squared_error: 0.5849\n",
      "Epoch 2/20\n",
      "363/363 [==============================] - 0s 1ms/step - loss: 0.6620 - mean_squared_error: 0.6620 - val_loss: 0.5390 - val_mean_squared_error: 0.5390\n",
      "Epoch 3/20\n",
      "363/363 [==============================] - 0s 1ms/step - loss: 0.4926 - mean_squared_error: 0.4926 - val_loss: 0.4724 - val_mean_squared_error: 0.4724\n",
      "Epoch 4/20\n",
      "363/363 [==============================] - 0s 1ms/step - loss: 0.4693 - mean_squared_error: 0.4693 - val_loss: 0.4529 - val_mean_squared_error: 0.4529\n",
      "Epoch 5/20\n",
      "363/363 [==============================] - 0s 1ms/step - loss: 0.4236 - mean_squared_error: 0.4236 - val_loss: 0.4395 - val_mean_squared_error: 0.4395\n",
      "Epoch 6/20\n",
      "363/363 [==============================] - 0s 1ms/step - loss: 0.3906 - mean_squared_error: 0.3906 - val_loss: 0.4329 - val_mean_squared_error: 0.4329\n",
      "Epoch 7/20\n",
      "363/363 [==============================] - 0s 1ms/step - loss: 0.3996 - mean_squared_error: 0.3996 - val_loss: 0.4274 - val_mean_squared_error: 0.4274\n",
      "Epoch 8/20\n",
      "363/363 [==============================] - 0s 1ms/step - loss: 0.3906 - mean_squared_error: 0.3906 - val_loss: 0.4207 - val_mean_squared_error: 0.4207\n",
      "Epoch 9/20\n",
      "363/363 [==============================] - 0s 1ms/step - loss: 0.3851 - mean_squared_error: 0.3851 - val_loss: 0.4147 - val_mean_squared_error: 0.4147\n",
      "Epoch 10/20\n",
      "363/363 [==============================] - 0s 1ms/step - loss: 0.3847 - mean_squared_error: 0.3847 - val_loss: 0.4189 - val_mean_squared_error: 0.4189\n",
      "Epoch 11/20\n",
      "363/363 [==============================] - 0s 1ms/step - loss: 0.3713 - mean_squared_error: 0.3713 - val_loss: 0.4107 - val_mean_squared_error: 0.4107\n",
      "Epoch 12/20\n",
      "363/363 [==============================] - 0s 1ms/step - loss: 0.3807 - mean_squared_error: 0.3807 - val_loss: 0.4109 - val_mean_squared_error: 0.4109\n",
      "Epoch 13/20\n",
      "363/363 [==============================] - 0s 1ms/step - loss: 0.3800 - mean_squared_error: 0.3800 - val_loss: 0.4051 - val_mean_squared_error: 0.4051\n",
      "Epoch 14/20\n",
      "363/363 [==============================] - 0s 1ms/step - loss: 0.3982 - mean_squared_error: 0.3982 - val_loss: 0.4032 - val_mean_squared_error: 0.4032\n",
      "Epoch 15/20\n",
      "363/363 [==============================] - 0s 1ms/step - loss: 0.3873 - mean_squared_error: 0.3873 - val_loss: 0.4057 - val_mean_squared_error: 0.4057\n",
      "Epoch 16/20\n",
      "363/363 [==============================] - 0s 1ms/step - loss: 0.3749 - mean_squared_error: 0.3749 - val_loss: 0.3999 - val_mean_squared_error: 0.3999\n",
      "Epoch 17/20\n",
      "363/363 [==============================] - 0s 1ms/step - loss: 0.3628 - mean_squared_error: 0.3628 - val_loss: 0.3941 - val_mean_squared_error: 0.3941\n",
      "Epoch 18/20\n",
      "363/363 [==============================] - 0s 1ms/step - loss: 0.3665 - mean_squared_error: 0.3665 - val_loss: 0.3986 - val_mean_squared_error: 0.3986\n",
      "Epoch 19/20\n",
      "363/363 [==============================] - 0s 1ms/step - loss: 0.3575 - mean_squared_error: 0.3575 - val_loss: 0.3977 - val_mean_squared_error: 0.3977\n",
      "Epoch 20/20\n",
      "363/363 [==============================] - 0s 1ms/step - loss: 0.3826 - mean_squared_error: 0.3826 - val_loss: 0.3960 - val_mean_squared_error: 0.3960\n"
     ]
    }
   ],
   "source": [
    "model  = keras.models.Sequential([\n",
    "    keras.layers.Dense(30,activation=\"relu\",input_shape=X_train.shape[1:]),\n",
    "    keras.layers.Dense(1)\n",
    "])\n",
    "\n",
    "model.compile(loss=\"mean_squared_error\" , optimizer=\"sgd\",   metrics=[tf.keras.metrics.MeanSquaredError()])\n",
    "history = model.fit(X_train,y_train,epochs=20,validation_data=(X_valid,y_valid))"
   ]
  },
  {
   "cell_type": "code",
   "execution_count": 5,
   "id": "italian-hawaii",
   "metadata": {},
   "outputs": [
    {
     "name": "stdout",
     "output_type": "stream",
     "text": [
      "Model: \"sequential\"\n",
      "_________________________________________________________________\n",
      "Layer (type)                 Output Shape              Param #   \n",
      "=================================================================\n",
      "dense (Dense)                (None, 30)                270       \n",
      "_________________________________________________________________\n",
      "dense_1 (Dense)              (None, 1)                 31        \n",
      "=================================================================\n",
      "Total params: 301\n",
      "Trainable params: 301\n",
      "Non-trainable params: 0\n",
      "_________________________________________________________________\n"
     ]
    }
   ],
   "source": [
    "model.summary()"
   ]
  },
  {
   "cell_type": "code",
   "execution_count": 6,
   "id": "final-surrey",
   "metadata": {},
   "outputs": [
    {
     "name": "stdout",
     "output_type": "stream",
     "text": [
      "162/162 [==============================] - 0s 794us/step - loss: 0.3679 - mean_squared_error: 0.3679\n"
     ]
    }
   ],
   "source": [
    "mse_test = model.evaluate(X_test,y_test)"
   ]
  },
  {
   "cell_type": "code",
   "execution_count": 7,
   "id": "fifteen-webmaster",
   "metadata": {},
   "outputs": [
    {
     "data": {
      "text/plain": [
       "array([[3.5507307],\n",
       "       [1.8669596],\n",
       "       [3.511022 ]], dtype=float32)"
      ]
     },
     "execution_count": 7,
     "metadata": {},
     "output_type": "execute_result"
    }
   ],
   "source": [
    "x_new = X_test[:3]\n",
    "y_pred = model.predict(x_new)\n",
    "y_pred"
   ]
  },
  {
   "cell_type": "code",
   "execution_count": 8,
   "id": "competitive-supervisor",
   "metadata": {},
   "outputs": [
    {
     "data": {
      "text/plain": [
       "array([3.302, 1.941, 3.791])"
      ]
     },
     "execution_count": 8,
     "metadata": {},
     "output_type": "execute_result"
    }
   ],
   "source": [
    "y_test[:3]"
   ]
  },
  {
   "cell_type": "code",
   "execution_count": 9,
   "id": "direct-switch",
   "metadata": {},
   "outputs": [
    {
     "data": {
      "image/png": "[encoded data removed]",
      "text/plain": [
       "<Figure size 576x360 with 1 Axes>"
      ]
     },
     "metadata": {
      "needs_background": "light"
     },
     "output_type": "display_data"
    }
   ],
   "source": [
    "pd.DataFrame(history.history).plot(figsize=(8,5))\n",
    "plt.grid(True)"
   ]
  },
  {
   "cell_type": "code",
   "execution_count": 10,
   "id": "provincial-research",
   "metadata": {},
   "outputs": [
    {
     "name": "stdout",
     "output_type": "stream",
     "text": [
      "Epoch 1/20\n",
      "363/363 [==============================] - 1s 2ms/step - loss: 2.7675 - mean_squared_error: 2.7675 - val_loss: 0.6058 - val_mean_squared_error: 0.6058\n",
      "Epoch 2/20\n",
      "363/363 [==============================] - 0s 1ms/step - loss: 0.5312 - mean_squared_error: 0.5312 - val_loss: 0.4745 - val_mean_squared_error: 0.4745\n",
      "Epoch 3/20\n",
      "363/363 [==============================] - 0s 1ms/step - loss: 0.4481 - mean_squared_error: 0.4481 - val_loss: 0.4365 - val_mean_squared_error: 0.4365\n",
      "Epoch 4/20\n",
      "363/363 [==============================] - 0s 1ms/step - loss: 0.4111 - mean_squared_error: 0.4111 - val_loss: 0.4090 - val_mean_squared_error: 0.4090\n",
      "Epoch 5/20\n",
      "363/363 [==============================] - 0s 1ms/step - loss: 0.3865 - mean_squared_error: 0.3865 - val_loss: 0.3986 - val_mean_squared_error: 0.3986\n",
      "Epoch 6/20\n",
      "363/363 [==============================] - 0s 1ms/step - loss: 0.3824 - mean_squared_error: 0.3824 - val_loss: 0.3840 - val_mean_squared_error: 0.3840\n",
      "Epoch 7/20\n",
      "363/363 [==============================] - 0s 1ms/step - loss: 0.3566 - mean_squared_error: 0.3566 - val_loss: 0.3759 - val_mean_squared_error: 0.3759\n",
      "Epoch 8/20\n",
      "363/363 [==============================] - 0s 1ms/step - loss: 0.3559 - mean_squared_error: 0.3559 - val_loss: 0.3724 - val_mean_squared_error: 0.3724\n",
      "Epoch 9/20\n",
      "363/363 [==============================] - 0s 1ms/step - loss: 0.3623 - mean_squared_error: 0.3623 - val_loss: 0.3623 - val_mean_squared_error: 0.3623\n",
      "Epoch 10/20\n",
      "363/363 [==============================] - 0s 1ms/step - loss: 0.3403 - mean_squared_error: 0.3403 - val_loss: 0.3541 - val_mean_squared_error: 0.3541\n",
      "Epoch 11/20\n",
      "363/363 [==============================] - 0s 1ms/step - loss: 0.3309 - mean_squared_error: 0.3309 - val_loss: 0.3614 - val_mean_squared_error: 0.3614\n",
      "Epoch 12/20\n",
      "363/363 [==============================] - 1s 1ms/step - loss: 0.3309 - mean_squared_error: 0.3309 - val_loss: 0.3463 - val_mean_squared_error: 0.3463\n",
      "Epoch 13/20\n",
      "363/363 [==============================] - 0s 1ms/step - loss: 0.3254 - mean_squared_error: 0.3254 - val_loss: 0.3466 - val_mean_squared_error: 0.3466\n",
      "Epoch 14/20\n",
      "363/363 [==============================] - 1s 1ms/step - loss: 0.3186 - mean_squared_error: 0.3186 - val_loss: 0.3426 - val_mean_squared_error: 0.3426\n",
      "Epoch 15/20\n",
      "363/363 [==============================] - 1s 1ms/step - loss: 0.3368 - mean_squared_error: 0.3368 - val_loss: 0.3356 - val_mean_squared_error: 0.3356\n",
      "Epoch 16/20\n",
      "363/363 [==============================] - 0s 1ms/step - loss: 0.3147 - mean_squared_error: 0.3147 - val_loss: 0.3407 - val_mean_squared_error: 0.3407\n",
      "Epoch 17/20\n",
      "363/363 [==============================] - 0s 1ms/step - loss: 0.3145 - mean_squared_error: 0.3145 - val_loss: 0.3413 - val_mean_squared_error: 0.3413\n",
      "Epoch 18/20\n",
      "363/363 [==============================] - 0s 1ms/step - loss: 0.2936 - mean_squared_error: 0.2936 - val_loss: 0.3336 - val_mean_squared_error: 0.3336\n",
      "Epoch 19/20\n",
      "363/363 [==============================] - 0s 1ms/step - loss: 0.3125 - mean_squared_error: 0.3125 - val_loss: 0.3279 - val_mean_squared_error: 0.3279\n",
      "Epoch 20/20\n",
      "363/363 [==============================] - 0s 1ms/step - loss: 0.3140 - mean_squared_error: 0.3140 - val_loss: 0.3317 - val_mean_squared_error: 0.3317\n"
     ]
    }
   ],
   "source": [
    "#using keras functional api to build complex models\n",
    "\n",
    "input_ = keras.layers.Input(shape = X_train.shape[1:])\n",
    "hidden1 = keras.layers.Dense(30,activation=\"relu\")(input_)\n",
    "hidden2 = keras.layers.Dense(30,activation=\"relu\")(hidden1)\n",
    "concat = keras.layers.Concatenate()([input_,hidden2])\n",
    "output = keras.layers.Dense(1)(concat)\n",
    "model = keras.Model(inputs=[input_],outputs=[output])\n",
    "\n",
    "model.compile(loss=\"mean_squared_error\" , optimizer=\"adam\",   metrics=[tf.keras.metrics.MeanSquaredError()])\n",
    "history = model.fit(X_train,y_train,epochs=20,validation_data=(X_valid,y_valid))"
   ]
  },
  {
   "cell_type": "code",
   "execution_count": 11,
   "id": "unnecessary-reply",
   "metadata": {},
   "outputs": [
    {
     "name": "stdout",
     "output_type": "stream",
     "text": [
      "162/162 [==============================] - 0s 794us/step - loss: 0.3190 - mean_squared_error: 0.3190\n"
     ]
    },
    {
     "data": {
      "text/plain": [
       "[0.3190046548843384, 0.3190046548843384]"
      ]
     },
     "execution_count": 11,
     "metadata": {},
     "output_type": "execute_result"
    }
   ],
   "source": [
    "model.evaluate(X_test,y_test)"
   ]
  },
  {
   "cell_type": "code",
   "execution_count": 12,
   "id": "exceptional-trust",
   "metadata": {},
   "outputs": [
    {
     "name": "stdout",
     "output_type": "stream",
     "text": [
      "Epoch 1/30\n",
      "363/363 [==============================] - 1s 2ms/step - loss: 2.4287 - mean_squared_error: 2.4287 - val_loss: 0.6452 - val_mean_squared_error: 0.6452\n",
      "Epoch 2/30\n",
      "363/363 [==============================] - 0s 1ms/step - loss: 0.7089 - mean_squared_error: 0.7089 - val_loss: 0.4778 - val_mean_squared_error: 0.4778\n",
      "Epoch 3/30\n",
      "363/363 [==============================] - 0s 1ms/step - loss: 0.4583 - mean_squared_error: 0.4583 - val_loss: 0.4413 - val_mean_squared_error: 0.4413\n",
      "Epoch 4/30\n",
      "363/363 [==============================] - 0s 1ms/step - loss: 0.4046 - mean_squared_error: 0.4046 - val_loss: 0.4124 - val_mean_squared_error: 0.4124\n",
      "Epoch 5/30\n",
      "363/363 [==============================] - 0s 1ms/step - loss: 0.3886 - mean_squared_error: 0.3886 - val_loss: 0.3945 - val_mean_squared_error: 0.3945\n",
      "Epoch 6/30\n",
      "363/363 [==============================] - 1s 1ms/step - loss: 0.3712 - mean_squared_error: 0.3712 - val_loss: 0.3833 - val_mean_squared_error: 0.3833\n",
      "Epoch 7/30\n",
      "363/363 [==============================] - 0s 1ms/step - loss: 0.3560 - mean_squared_error: 0.3560 - val_loss: 0.3960 - val_mean_squared_error: 0.3960\n",
      "Epoch 8/30\n",
      "363/363 [==============================] - 0s 1ms/step - loss: 0.3606 - mean_squared_error: 0.3606 - val_loss: 0.3708 - val_mean_squared_error: 0.3708\n",
      "Epoch 9/30\n",
      "363/363 [==============================] - 0s 1ms/step - loss: 0.3519 - mean_squared_error: 0.3519 - val_loss: 0.3662 - val_mean_squared_error: 0.3662\n",
      "Epoch 10/30\n",
      "363/363 [==============================] - 0s 1ms/step - loss: 0.3476 - mean_squared_error: 0.3476 - val_loss: 0.3655 - val_mean_squared_error: 0.3655\n",
      "Epoch 11/30\n",
      "363/363 [==============================] - 1s 1ms/step - loss: 0.3361 - mean_squared_error: 0.3361 - val_loss: 0.3524 - val_mean_squared_error: 0.3524\n",
      "Epoch 12/30\n",
      "363/363 [==============================] - 1s 1ms/step - loss: 0.3289 - mean_squared_error: 0.3289 - val_loss: 0.3563 - val_mean_squared_error: 0.3563\n",
      "Epoch 13/30\n",
      "363/363 [==============================] - 0s 1ms/step - loss: 0.3300 - mean_squared_error: 0.3300 - val_loss: 0.3640 - val_mean_squared_error: 0.3640\n",
      "Epoch 14/30\n",
      "363/363 [==============================] - 1s 1ms/step - loss: 0.3361 - mean_squared_error: 0.3361 - val_loss: 0.3586 - val_mean_squared_error: 0.3586\n",
      "Epoch 15/30\n",
      "363/363 [==============================] - 1s 1ms/step - loss: 0.3269 - mean_squared_error: 0.3269 - val_loss: 0.3462 - val_mean_squared_error: 0.3462\n",
      "Epoch 16/30\n",
      "363/363 [==============================] - 0s 1ms/step - loss: 0.3306 - mean_squared_error: 0.3306 - val_loss: 0.3627 - val_mean_squared_error: 0.3627\n",
      "Epoch 17/30\n",
      "363/363 [==============================] - 0s 1ms/step - loss: 0.3359 - mean_squared_error: 0.3359 - val_loss: 0.3452 - val_mean_squared_error: 0.3452\n",
      "Epoch 18/30\n",
      "363/363 [==============================] - 0s 1ms/step - loss: 0.3230 - mean_squared_error: 0.3230 - val_loss: 0.3510 - val_mean_squared_error: 0.3510\n",
      "Epoch 19/30\n",
      "363/363 [==============================] - 0s 1ms/step - loss: 0.3301 - mean_squared_error: 0.3301 - val_loss: 0.3450 - val_mean_squared_error: 0.3450\n",
      "Epoch 20/30\n",
      "363/363 [==============================] - 0s 1ms/step - loss: 0.3150 - mean_squared_error: 0.3150 - val_loss: 0.3417 - val_mean_squared_error: 0.3417\n",
      "Epoch 21/30\n",
      "363/363 [==============================] - 0s 1ms/step - loss: 0.3052 - mean_squared_error: 0.3052 - val_loss: 0.3453 - val_mean_squared_error: 0.3453\n",
      "Epoch 22/30\n",
      "363/363 [==============================] - 1s 1ms/step - loss: 0.3241 - mean_squared_error: 0.3241 - val_loss: 0.3445 - val_mean_squared_error: 0.3445\n",
      "Epoch 23/30\n",
      "363/363 [==============================] - 1s 1ms/step - loss: 0.3349 - mean_squared_error: 0.3349 - val_loss: 0.3450 - val_mean_squared_error: 0.3450\n",
      "Epoch 24/30\n",
      "363/363 [==============================] - 0s 1ms/step - loss: 0.3104 - mean_squared_error: 0.3104 - val_loss: 0.3508 - val_mean_squared_error: 0.3508\n",
      "Epoch 25/30\n",
      "363/363 [==============================] - 0s 1ms/step - loss: 0.3233 - mean_squared_error: 0.3233 - val_loss: 0.3409 - val_mean_squared_error: 0.3409\n",
      "Epoch 26/30\n",
      "363/363 [==============================] - 0s 1ms/step - loss: 0.3236 - mean_squared_error: 0.3236 - val_loss: 0.3495 - val_mean_squared_error: 0.3495\n",
      "Epoch 27/30\n",
      "363/363 [==============================] - 0s 1ms/step - loss: 0.3319 - mean_squared_error: 0.3319 - val_loss: 0.3436 - val_mean_squared_error: 0.3436 - loss: 0.3322 - mean_squared_error: 0.33\n",
      "Epoch 28/30\n",
      "363/363 [==============================] - 0s 1ms/step - loss: 0.3076 - mean_squared_error: 0.3076 - val_loss: 0.3454 - val_mean_squared_error: 0.3454\n",
      "Epoch 29/30\n",
      "363/363 [==============================] - 0s 1ms/step - loss: 0.3049 - mean_squared_error: 0.3049 - val_loss: 0.3431 - val_mean_squared_error: 0.3431\n",
      "Epoch 30/30\n",
      "363/363 [==============================] - 0s 1ms/step - loss: 0.3058 - mean_squared_error: 0.3058 - val_loss: 0.3389 - val_mean_squared_error: 0.3389\n"
     ]
    }
   ],
   "source": [
    "# sending subsets of features refer hands on machine learning page 310\n",
    "\n",
    "input_A = keras.layers.Input(shape=[5],name=\"wide_input\")\n",
    "input_B = keras.layers.Input(shape=[6],name=\"deep_input\")\n",
    "hidden1 = keras.layers.Dense(30,activation=\"relu\")(input_B)\n",
    "hidden2 = keras.layers.Dense(30,activation=\"relu\")(hidden1)\n",
    "concat = keras.layers.concatenate([input_A,hidden2])\n",
    "output = keras.layers.Dense(1,name=\"output\")(concat)\n",
    "model = keras.Model(inputs=[input_A,input_B],outputs=[output])\n",
    "\n",
    "model.compile(loss=\"mean_squared_error\" , optimizer=\"adam\",   metrics=[tf.keras.metrics.MeanSquaredError()])\n",
    "\n",
    "X_train_A,X_train_B = X_train[:,:5],X_train[:,2:]\n",
    "X_valid_A,X_valid_B = X_valid[:,:5],X_valid[:,2:]\n",
    "X_test_A,X_test_B = X_test[:,:5],X_test[:,2:]\n",
    "X_new_A,X_new_B = X_test_A[:3],X_test_B[:3]\n",
    "\n",
    "history = model.fit((X_train_A,X_train_B),y_train,epochs=30,validation_data=((X_valid_A,X_valid_B),y_valid))"
   ]
  },
  {
   "cell_type": "code",
   "execution_count": 13,
   "id": "chief-expense",
   "metadata": {},
   "outputs": [
    {
     "name": "stdout",
     "output_type": "stream",
     "text": [
      "162/162 [==============================] - 0s 801us/step - loss: 0.3184 - mean_squared_error: 0.3184\n"
     ]
    },
    {
     "data": {
      "text/plain": [
       "[0.31840208172798157, 0.31840208172798157]"
      ]
     },
     "execution_count": 13,
     "metadata": {},
     "output_type": "execute_result"
    }
   ],
   "source": [
    "model.evaluate((X_test_A,X_test_B),y_test)"
   ]
  },
  {
   "cell_type": "code",
   "execution_count": 14,
   "id": "acknowledged-moore",
   "metadata": {},
   "outputs": [
    {
     "data": {
      "text/plain": [
       "array([[3.1828978],\n",
       "       [1.859813 ],\n",
       "       [3.7705607]], dtype=float32)"
      ]
     },
     "execution_count": 14,
     "metadata": {},
     "output_type": "execute_result"
    }
   ],
   "source": [
    "model.predict((X_new_A,X_new_B))"
   ]
  },
  {
   "cell_type": "code",
   "execution_count": 15,
   "id": "opponent-humor",
   "metadata": {},
   "outputs": [
    {
     "data": {
      "text/plain": [
       "array([3.302, 1.941, 3.791])"
      ]
     },
     "execution_count": 15,
     "metadata": {},
     "output_type": "execute_result"
    }
   ],
   "source": [
    "y_test[:3]"
   ]
  },
  {
   "cell_type": "code",
   "execution_count": 16,
   "id": "widespread-alarm",
   "metadata": {},
   "outputs": [
    {
     "name": "stdout",
     "output_type": "stream",
     "text": [
      "Epoch 1/20\n",
      "363/363 [==============================] - 1s 2ms/step - loss: 2.4811 - output_loss: 2.3670 - aux_output_loss: 3.5082 - val_loss: 0.7080 - val_output_loss: 0.6766 - val_aux_output_loss: 0.9907\n",
      "Epoch 2/20\n",
      "363/363 [==============================] - 1s 1ms/step - loss: 0.6335 - output_loss: 0.6047 - aux_output_loss: 0.8925 - val_loss: 0.5089 - val_output_loss: 0.4896 - val_aux_output_loss: 0.6825\n",
      "Epoch 3/20\n",
      "363/363 [==============================] - 1s 2ms/step - loss: 0.4659 - output_loss: 0.4459 - aux_output_loss: 0.6464 - val_loss: 0.4379 - val_output_loss: 0.4233 - val_aux_output_loss: 0.5694\n",
      "Epoch 4/20\n",
      "363/363 [==============================] - 1s 2ms/step - loss: 0.4214 - output_loss: 0.4062 - aux_output_loss: 0.5579 - val_loss: 0.4147 - val_output_loss: 0.4028 - val_aux_output_loss: 0.5215\n",
      "Epoch 5/20\n",
      "363/363 [==============================] - 1s 1ms/step - loss: 0.4042 - output_loss: 0.3913 - aux_output_loss: 0.5205 - val_loss: 0.4045 - val_output_loss: 0.3946 - val_aux_output_loss: 0.4931\n",
      "Epoch 6/20\n",
      "363/363 [==============================] - 1s 1ms/step - loss: 0.3830 - output_loss: 0.3705 - aux_output_loss: 0.4959 - val_loss: 0.3944 - val_output_loss: 0.3848 - val_aux_output_loss: 0.4803\n",
      "Epoch 7/20\n",
      "363/363 [==============================] - 1s 1ms/step - loss: 0.3827 - output_loss: 0.3716 - aux_output_loss: 0.4829 - val_loss: 0.3865 - val_output_loss: 0.3781 - val_aux_output_loss: 0.4620\n",
      "Epoch 8/20\n",
      "363/363 [==============================] - 1s 1ms/step - loss: 0.3685 - output_loss: 0.3588 - aux_output_loss: 0.4565 - val_loss: 0.3803 - val_output_loss: 0.3734 - val_aux_output_loss: 0.4429\n",
      "Epoch 9/20\n",
      "363/363 [==============================] - 1s 1ms/step - loss: 0.3480 - output_loss: 0.3391 - aux_output_loss: 0.4280 - val_loss: 0.3738 - val_output_loss: 0.3653 - val_aux_output_loss: 0.4503\n",
      "Epoch 10/20\n",
      "363/363 [==============================] - 1s 2ms/step - loss: 0.3625 - output_loss: 0.3543 - aux_output_loss: 0.4362 - val_loss: 0.3657 - val_output_loss: 0.3592 - val_aux_output_loss: 0.4239\n",
      "Epoch 11/20\n",
      "363/363 [==============================] - 1s 2ms/step - loss: 0.3494 - output_loss: 0.3414 - aux_output_loss: 0.4209 - val_loss: 0.3647 - val_output_loss: 0.3587 - val_aux_output_loss: 0.4190\n",
      "Epoch 12/20\n",
      "363/363 [==============================] - 1s 1ms/step - loss: 0.3628 - output_loss: 0.3552 - aux_output_loss: 0.4310 - val_loss: 0.3564 - val_output_loss: 0.3500 - val_aux_output_loss: 0.4143\n",
      "Epoch 13/20\n",
      "363/363 [==============================] - 1s 1ms/step - loss: 0.3384 - output_loss: 0.3315 - aux_output_loss: 0.4010 - val_loss: 0.3659 - val_output_loss: 0.3602 - val_aux_output_loss: 0.4176\n",
      "Epoch 14/20\n",
      "363/363 [==============================] - 1s 1ms/step - loss: 0.3345 - output_loss: 0.3282 - aux_output_loss: 0.3911 - val_loss: 0.3595 - val_output_loss: 0.3536 - val_aux_output_loss: 0.4119\n",
      "Epoch 15/20\n",
      "363/363 [==============================] - 1s 1ms/step - loss: 0.3360 - output_loss: 0.3287 - aux_output_loss: 0.4013 - val_loss: 0.3498 - val_output_loss: 0.3440 - val_aux_output_loss: 0.4018\n",
      "Epoch 16/20\n",
      "363/363 [==============================] - 1s 1ms/step - loss: 0.3326 - output_loss: 0.3268 - aux_output_loss: 0.3851 - val_loss: 0.3509 - val_output_loss: 0.3451 - val_aux_output_loss: 0.4023\n",
      "Epoch 17/20\n",
      "363/363 [==============================] - 1s 1ms/step - loss: 0.3210 - output_loss: 0.3141 - aux_output_loss: 0.3829 - val_loss: 0.3480 - val_output_loss: 0.3422 - val_aux_output_loss: 0.3999\n",
      "Epoch 18/20\n",
      "363/363 [==============================] - 1s 1ms/step - loss: 0.3359 - output_loss: 0.3298 - aux_output_loss: 0.3899 - val_loss: 0.3464 - val_output_loss: 0.3410 - val_aux_output_loss: 0.3952\n",
      "Epoch 19/20\n",
      "363/363 [==============================] - 1s 1ms/step - loss: 0.3392 - output_loss: 0.3326 - aux_output_loss: 0.3983 - val_loss: 0.3526 - val_output_loss: 0.3471 - val_aux_output_loss: 0.4022\n",
      "Epoch 20/20\n",
      "363/363 [==============================] - 1s 1ms/step - loss: 0.3268 - output_loss: 0.3206 - aux_output_loss: 0.3828 - val_loss: 0.3490 - val_output_loss: 0.3435 - val_aux_output_loss: 0.3992\n"
     ]
    }
   ],
   "source": [
    "#using an auxilary output for regulariztion page 312 in hands on machine learning\n",
    "\n",
    "\n",
    "input_A = keras.layers.Input(shape=[5],name=\"wide_input\")\n",
    "input_B = keras.layers.Input(shape=[6],name=\"deep_input\")\n",
    "hidden1 = keras.layers.Dense(30,activation=\"relu\")(input_B)\n",
    "hidden2 = keras.layers.Dense(30,activation=\"relu\")(hidden1)\n",
    "concat = keras.layers.concatenate([input_A,hidden2])\n",
    "output = keras.layers.Dense(1,name=\"output\")(concat)\n",
    "aux_output = keras.layers.Dense(1,name=\"aux_output\")(hidden2)\n",
    "model = keras.Model(inputs = [input_A,input_B],outputs=[output,aux_output])\n",
    "\n",
    "model.compile(loss=[\"mse\",\"mse\"],loss_weights=[0.9,0.1],optimizer=\"adam\")\n",
    "\n",
    "X_train_A,X_train_B = X_train[:,:5],X_train[:,2:]\n",
    "X_valid_A,X_valid_B = X_valid[:,:5],X_valid[:,2:]\n",
    "X_test_A,X_test_B = X_test[:,:5],X_test[:,2:]\n",
    "X_new_A,X_new_B = X_test_A[:3],X_test_B[:3]\n",
    "\n",
    "history = model.fit([X_train_A,X_train_B],[y_train,y_train],epochs=20,validation_data=([X_valid_A,X_valid_B],[y_valid,y_valid]))"
   ]
  },
  {
   "cell_type": "code",
   "execution_count": 17,
   "id": "unable-board",
   "metadata": {},
   "outputs": [
    {
     "name": "stdout",
     "output_type": "stream",
     "text": [
      "162/162 [==============================] - 0s 975us/step - loss: 0.3428 - output_loss: 0.3350 - aux_output_loss: 0.4132\n"
     ]
    }
   ],
   "source": [
    "total_loss,main_loss,aux_loss = model.evaluate([X_test_A,X_test_B],[y_test,y_test])"
   ]
  },
  {
   "cell_type": "code",
   "execution_count": 18,
   "id": "corrected-estonia",
   "metadata": {},
   "outputs": [
    {
     "data": {
      "text/plain": [
       "[array([[3.3825269],\n",
       "        [1.9521539],\n",
       "        [3.7489944]], dtype=float32),\n",
       " array([[3.53301  ],\n",
       "        [1.8421013],\n",
       "        [3.8010488]], dtype=float32)]"
      ]
     },
     "execution_count": 18,
     "metadata": {},
     "output_type": "execute_result"
    }
   ],
   "source": [
    "model.predict([X_new_A,X_new_B])"
   ]
  },
  {
   "cell_type": "code",
   "execution_count": 19,
   "id": "advance-mexican",
   "metadata": {},
   "outputs": [],
   "source": [
    "#saving the model refer hands on machine learning page 314\n",
    "model.save(\"californiamodel.h5\")"
   ]
  },
  {
   "cell_type": "code",
   "execution_count": 21,
   "id": "extensive-fountain",
   "metadata": {},
   "outputs": [],
   "source": [
    "# loading the model refer hands on machine learning page 315\n",
    "models = keras.models.load_model(\"californiamodel.h5\")"
   ]
  },
  {
   "cell_type": "code",
   "execution_count": 22,
   "id": "supreme-mobile",
   "metadata": {},
   "outputs": [
    {
     "name": "stdout",
     "output_type": "stream",
     "text": [
      "Epoch 1/20\n",
      "363/363 [==============================] - 1s 2ms/step - loss: 0.3361 - output_loss: 0.3304 - aux_output_loss: 0.3874 - val_loss: 0.3510 - val_output_loss: 0.3459 - val_aux_output_loss: 0.3968\n",
      "Epoch 2/20\n",
      "363/363 [==============================] - 1s 1ms/step - loss: 0.3227 - output_loss: 0.3163 - aux_output_loss: 0.3796 - val_loss: 0.3418 - val_output_loss: 0.3364 - val_aux_output_loss: 0.3909\n",
      "Epoch 3/20\n",
      "363/363 [==============================] - 1s 1ms/step - loss: 0.3234 - output_loss: 0.3173 - aux_output_loss: 0.3782 - val_loss: 0.3580 - val_output_loss: 0.3524 - val_aux_output_loss: 0.4085\n",
      "Epoch 4/20\n",
      "363/363 [==============================] - 1s 1ms/step - loss: 0.3205 - output_loss: 0.3143 - aux_output_loss: 0.3761 - val_loss: 0.3495 - val_output_loss: 0.3441 - val_aux_output_loss: 0.3988\n",
      "Epoch 5/20\n",
      "363/363 [==============================] - 1s 1ms/step - loss: 0.3209 - output_loss: 0.3149 - aux_output_loss: 0.3754 - val_loss: 0.3400 - val_output_loss: 0.3346 - val_aux_output_loss: 0.3884\n",
      "Epoch 6/20\n",
      "363/363 [==============================] - 1s 1ms/step - loss: 0.3200 - output_loss: 0.3140 - aux_output_loss: 0.3740 - val_loss: 0.3478 - val_output_loss: 0.3426 - val_aux_output_loss: 0.3944\n",
      "Epoch 7/20\n",
      "363/363 [==============================] - 1s 1ms/step - loss: 0.3176 - output_loss: 0.3117 - aux_output_loss: 0.3712 - val_loss: 0.3449 - val_output_loss: 0.3397 - val_aux_output_loss: 0.3919\n",
      "Epoch 8/20\n",
      "363/363 [==============================] - 1s 1ms/step - loss: 0.3153 - output_loss: 0.3093 - aux_output_loss: 0.3689 - val_loss: 0.3408 - val_output_loss: 0.3360 - val_aux_output_loss: 0.3841\n",
      "Epoch 9/20\n",
      "363/363 [==============================] - 1s 2ms/step - loss: 0.3155 - output_loss: 0.3097 - aux_output_loss: 0.3678 - val_loss: 0.3400 - val_output_loss: 0.3345 - val_aux_output_loss: 0.3893\n",
      "Epoch 10/20\n",
      "363/363 [==============================] - ETA: 0s - loss: 0.3210 - output_loss: 0.3153 - aux_output_loss: 0.371 - 1s 2ms/step - loss: 0.3183 - output_loss: 0.3127 - aux_output_loss: 0.3686 - val_loss: 0.3385 - val_output_loss: 0.3333 - val_aux_output_loss: 0.3856\n",
      "Epoch 11/20\n",
      "363/363 [==============================] - 0s 1ms/step - loss: 0.3125 - output_loss: 0.3067 - aux_output_loss: 0.3640 - val_loss: 0.3481 - val_output_loss: 0.3427 - val_aux_output_loss: 0.3966\n",
      "Epoch 12/20\n",
      "363/363 [==============================] - 1s 1ms/step - loss: 0.3158 - output_loss: 0.3101 - aux_output_loss: 0.3672 - val_loss: 0.3359 - val_output_loss: 0.3309 - val_aux_output_loss: 0.3807\n",
      "Epoch 13/20\n",
      "363/363 [==============================] - 1s 1ms/step - loss: 0.3139 - output_loss: 0.3083 - aux_output_loss: 0.3636 - val_loss: 0.3453 - val_output_loss: 0.3407 - val_aux_output_loss: 0.3872\n",
      "Epoch 14/20\n",
      "363/363 [==============================] - 1s 1ms/step - loss: 0.3129 - output_loss: 0.3075 - aux_output_loss: 0.3620 - val_loss: 0.3396 - val_output_loss: 0.3342 - val_aux_output_loss: 0.3888\n",
      "Epoch 15/20\n",
      "363/363 [==============================] - 1s 2ms/step - loss: 0.3106 - output_loss: 0.3050 - aux_output_loss: 0.3614 - val_loss: 0.3346 - val_output_loss: 0.3296 - val_aux_output_loss: 0.3800\n",
      "Epoch 16/20\n",
      "363/363 [==============================] - 1s 1ms/step - loss: 0.3124 - output_loss: 0.3071 - aux_output_loss: 0.3602 - val_loss: 0.3376 - val_output_loss: 0.3327 - val_aux_output_loss: 0.3817\n",
      "Epoch 17/20\n",
      "363/363 [==============================] - 1s 1ms/step - loss: 0.3100 - output_loss: 0.3046 - aux_output_loss: 0.3586 - val_loss: 0.3381 - val_output_loss: 0.3332 - val_aux_output_loss: 0.3831\n",
      "Epoch 18/20\n",
      "363/363 [==============================] - 1s 2ms/step - loss: 0.3101 - output_loss: 0.3047 - aux_output_loss: 0.3589 - val_loss: 0.3376 - val_output_loss: 0.3327 - val_aux_output_loss: 0.3809\n",
      "Epoch 19/20\n",
      "363/363 [==============================] - 1s 1ms/step - loss: 0.3081 - output_loss: 0.3027 - aux_output_loss: 0.3570 - val_loss: 0.3364 - val_output_loss: 0.3320 - val_aux_output_loss: 0.3763\n",
      "Epoch 20/20\n",
      "363/363 [==============================] - 1s 2ms/step - loss: 0.3086 - output_loss: 0.3032 - aux_output_loss: 0.3571 - val_loss: 0.3320 - val_output_loss: 0.3269 - val_aux_output_loss: 0.3776\n"
     ]
    }
   ],
   "source": [
    "history1 = models.fit([X_train_A,X_train_B],[y_train,y_train],epochs=20,validation_data=([X_valid_A,X_valid_B],[y_valid,y_valid]))"
   ]
  },
  {
   "cell_type": "code",
   "execution_count": 23,
   "id": "sporting-employee",
   "metadata": {},
   "outputs": [
    {
     "name": "stdout",
     "output_type": "stream",
     "text": [
      "162/162 [==============================] - 0s 900us/step - loss: 0.3428 - output_loss: 0.3350 - aux_output_loss: 0.4132\n"
     ]
    },
    {
     "data": {
      "text/plain": [
       "[0.34278029203414917, 0.33495476841926575, 0.41320839524269104]"
      ]
     },
     "execution_count": 23,
     "metadata": {},
     "output_type": "execute_result"
    }
   ],
   "source": [
    "model.evaluate([X_test_A,X_test_B],[y_test,y_test])"
   ]
  },
  {
   "cell_type": "code",
   "execution_count": null,
   "id": "appropriate-garlic",
   "metadata": {},
   "outputs": [],
   "source": [
    "# using the call callbacks to save model at required check points"
   ]
  }
 ],
 "metadata": {
  "kernelspec": {
   "display_name": "Python 3",
   "language": "python",
   "name": "python3"
  },
  "language_info": {
   "codemirror_mode": {
    "name": "ipython",
    "version": 3
   },
   "file_extension": ".py",
   "mimetype": "text/x-python",
   "name": "python",
   "nbconvert_exporter": "python",
   "pygments_lexer": "ipython3",
   "version": "3.8.5"
  }
 },
 "nbformat": 4,
 "nbformat_minor": 5
}
